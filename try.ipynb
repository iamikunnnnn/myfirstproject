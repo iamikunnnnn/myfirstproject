{
 "cells": [
  {
   "cell_type": "code",
   "execution_count": 14,
   "id": "512bb190-0a2e-4ac6-bd80-1cbf388f7ad2",
   "metadata": {
    "ExecuteTime": {
     "end_time": "2024-06-25T07:03:24.712962Z",
     "start_time": "2024-06-25T07:03:24.708479Z"
    }
   },
   "outputs": [],
   "source": [
    "import pandas as pd\n",
    "import numpy as np\n",
    "import requests\n",
    "from bs4 import BeautifulSoup\n",
    "import re\n",
    "from selenium import webdriver\n",
    "from selenium.webdriver.common.by import By\n",
    "from selenium.webdriver.support.ui import WebDriverWait\n",
    "from selenium.webdriver.support import expected_conditions as EC\n",
    "from pyecharts.render.engine import render_notebook\n",
    "from pyecharts.charts import Bar\n",
    "from pyecharts.charts import Scatter\n",
    "from pyecharts import options as opts\n",
    "from itertools import zip_longest"
   ]
  },
  {
   "cell_type": "code",
   "execution_count": 15,
   "id": "359f8990-4d63-4044-8b53-a78e820e71d8",
   "metadata": {
    "scrolled": true,
    "ExecuteTime": {
     "end_time": "2024-06-25T07:04:30.628860Z",
     "start_time": "2024-06-25T07:03:24.713972Z"
    }
   },
   "outputs": [
    {
     "name": "stdout",
     "output_type": "stream",
     "text": [
      "[<h4>百度</h4>, <h4>快手</h4>, <h4>华为</h4>, <h4>BOSS直聘</h4>, <h4>阿里巴巴集团</h4>, <h4>好未来</h4>, <h4>滴滴出行</h4>, <h4>网易</h4>, <h4>中软国际</h4>, <h4>汽车之家</h4>, <h4>高德地图</h4>, <h4>腾讯</h4>, <h4>英雄互娱</h4>, <h4>完美世界</h4>, <h4>易车</h4>, <h4>中科软</h4>, <h4>四维图新</h4>, <h4>神州租车</h4>, <h4>金山云</h4>, <h4>奇虎360</h4>, <h4>纷享销客</h4>, <h4>饿了么</h4>, <h4>永航科技</h4>, <h4>亚信科技</h4>, <h4>货拉拉科技</h4>, <h4>美团网</h4>, <h4>Keep</h4>, <h4>掌阅科技</h4>]\n",
      "------------------------------------------------------------\n",
      "[<p>热招 <span class=\"vline\"></span> <u class=\"h\">高级算法工程师</u> 20-40K·16薪</p>, <p>热招 <span class=\"vline\"></span> <u class=\"h\">数据开发工程师</u> 30-50K·16薪</p>, <p>热招 <span class=\"vline\"></span> <u class=\"h\">硬件工程师（北京OD）</u> 15-30K·14薪</p>, <p>热招 <span class=\"vline\"></span> <u class=\"h\">用户运营</u> 3-4K</p>, <p>热招 <span class=\"vline\"></span> <u class=\"h\">JAVA工程师</u> 20-27K</p>, <p>热招 <span class=\"vline\"></span> <u class=\"h\">UI设计实习生</u> 200-240元/天</p>, <p>热招 <span class=\"vline\"></span> <u class=\"h\">算法工程师</u> 25-50K·15薪</p>, <p>热招 <span class=\"vline\"></span> <u class=\"h\">数理思维小班课主讲</u> 18-20K·13薪</p>, <p>热招 <span class=\"vline\"></span> <u class=\"h\">python开发</u> 10-15K</p>, <p>热招 <span class=\"vline\"></span> <u class=\"h\">云原生架构师</u> 30-45K·16薪</p>, <p>热招 <span class=\"vline\"></span> <u class=\"h\">高德-C++引擎开发工程师-车联网</u> 30-50K</p>, <p>热招 <span class=\"vline\"></span> <u class=\"h\">后台开发工程师</u> 50-80K·16薪</p>, <p>热招 <span class=\"vline\"></span> <u class=\"h\">技术美术TA-技术向-RD04</u> 35-50K·16薪</p>, <p>热招 <span class=\"vline\"></span> <u class=\"h\">买量素材创意策划-回合制</u> 20-25K</p>, <p>热招 <span class=\"vline\"></span> <u class=\"h\">高级大数据开发工程师</u> 20-35K</p>, <p>热招 <span class=\"vline\"></span> <u class=\"h\">算法工程师</u> 10-15K</p>, <p>热招 <span class=\"vline\"></span> <u class=\"h\">ADAS自动驾驶测试验证专家</u> 35-55K</p>, <p>热招 <span class=\"vline\"></span> <u class=\"h\">资深政策研究经理 (MJ002648)</u> 27-35K</p>, <p>热招 <span class=\"vline\"></span> <u class=\"h\">GPU专家</u> 60-70K·15薪</p>, <p>热招 <span class=\"vline\"></span> <u class=\"h\">UI</u> 15-20K·15薪</p>, <p>热招 <span class=\"vline\"></span> <u class=\"h\">数据产品经理（BI平台方向）</u> 25-35K·14薪</p>, <p>热招 <span class=\"vline\"></span> <u class=\"h\">Android技术专家</u> 25-50K·16薪</p>, <p>热招 <span class=\"vline\"></span> <u class=\"h\">3D动作</u> 15-30K</p>, <p>热招 <span class=\"vline\"></span> <u class=\"h\">资金管理岗</u> 8-9K·14薪</p>, <p>热招 <span class=\"vline\"></span> <u class=\"h\">推荐算法工程师</u> 25-50K·14薪</p>, <p>热招 <span class=\"vline\"></span> <u class=\"h\">机器学习算法工程师</u> 25-50K·15薪</p>, <p>热招 <span class=\"vline\"></span> <u class=\"h\">运动产品经理 - 路线方向</u> 20-40K·14薪</p>, <p>热招 <span class=\"vline\"></span> <u class=\"h\">golang开发工程师(中级、高级、架构师)</u> 30-60K·14薪</p>]\n",
      "[<h4>旷视MEGVII</h4>, <h4>京东商城</h4>, <h4>一点资讯</h4>, <h4>致远互联</h4>, <h4>泛微网络</h4>, <h4>凤凰网</h4>, <h4>好特卖</h4>, <h4>途家网</h4>, <h4>微店</h4>, <h4>值得买科技</h4>, <h4>VIPKID</h4>, <h4>洋葱学园</h4>, <h4>卓望公司</h4>, <h4>青藤云安全</h4>, <h4>中国平安</h4>, <h4>地平线</h4>, <h4>传智教育</h4>, <h4>elex</h4>, <h4>bilibili</h4>, <h4>同方鼎欣</h4>, <h4>全时天地在线</h4>, <h4>一起教育科技</h4>, <h4>搜狐媒体</h4>, <h4>哗啦啦</h4>, <h4>中国人寿</h4>, <h4>阳光雨露</h4>, <h4>梆梆安全</h4>, <h4>融360</h4>]\n",
      "------------------------------------------------------------\n",
      "[<p>热招 <span class=\"vline\"></span> <u class=\"h\">融合工程师/专家/负责人</u> 55-85K·14薪</p>, <p>热招 <span class=\"vline\"></span> <u class=\"h\">跨端资深专家</u> 50-80K·16薪</p>, <p>热招 <span class=\"vline\"></span> <u class=\"h\">用户产品专家</u> 25-40K·16薪</p>, <p>热招 <span class=\"vline\"></span> <u class=\"h\">b端高级产品经理</u> 25-35K</p>, <p>热招 <span class=\"vline\"></span> <u class=\"h\">项目实施工程师</u> 7-10K</p>, <p>热招 <span class=\"vline\"></span> <u class=\"h\">广告算法工程师（薪资面议） (MJ002623)</u> 12-24K</p>, <p>热招 <span class=\"vline\"></span> <u class=\"h\">采购管培生</u> 10-15K</p>, <p>热招 <span class=\"vline\"></span> <u class=\"h\">android逆向开发工程师</u> 25-50K·16薪</p>, <p>热招 <span class=\"vline\"></span> <u class=\"h\">智能店-硬件整机测试</u> 15-30K·14薪</p>, <p>热招 <span class=\"vline\"></span> <u class=\"h\">NLP大模型算法工程师</u> 25-45K·15薪</p>, <p>热招 <span class=\"vline\"></span> <u class=\"h\">韩语课程顾问（可线上办公，地点不限）</u> 13-23K</p>, <p>热招 <span class=\"vline\"></span> <u class=\"h\">hrbp实习生</u> 150-180元/天</p>, <p>热招 <span class=\"vline\"></span> <u class=\"h\">容器平台开发工程师</u> 20-35K·13薪</p>, <p>热招 <span class=\"vline\"></span> <u class=\"h\">python高级开发工程师</u> 25-50K·14薪</p>, <p>热招 <span class=\"vline\"></span> <u class=\"h\">保险理赔</u> 12-24K</p>, <p>热招 <span class=\"vline\"></span> <u class=\"h\">机器人AI数据算法工程师</u> 30-60K·15薪</p>, <p>热招 <span class=\"vline\"></span> <u class=\"h\">（7k+）抖音剪辑师+14天春节假期</u> 6-10K</p>, <p>热招 <span class=\"vline\"></span> <u class=\"h\">制作人/系统策划/游戏主策 (MJ000603)</u> 30-50K·15薪</p>, <p>热招 <span class=\"vline\"></span> <u class=\"h\">高级Android高级工程师（直播）-北京</u> 25-45K</p>, <p>热招 <span class=\"vline\"></span> <u class=\"h\">java架构师</u> 16-18K</p>, <p>热招 <span class=\"vline\"></span> <u class=\"h\">角色绑定师</u> 15-25K</p>, <p>热招 <span class=\"vline\"></span> <u class=\"h\">C++</u> 15-30K·14薪</p>, <p>热招 <span class=\"vline\"></span> <u class=\"h\">设计实习生</u> 120-180元/天</p>, <p>热招 <span class=\"vline\"></span> <u class=\"h\">数据产品经理</u> 50-70K</p>, <p>热招 <span class=\"vline\"></span> <u class=\"h\">经理助理</u> 10-12K</p>, <p>热招 <span class=\"vline\"></span> <u class=\"h\">团队运营（外派联想）</u> 9-11K</p>, <p>热招 <span class=\"vline\"></span> <u class=\"h\">安全分析工程师</u> 15-30K·14薪</p>, <p>热招 <span class=\"vline\"></span> <u class=\"h\">风控模型工程师实习生 (MJ001240)</u> 300-350元/天</p>]\n",
      "[<h4>小盒科技</h4>, <h4>OPPO</h4>, <h4>联动优势</h4>, <h4>小叶子音乐科技</h4>, <h4>51CTO</h4>, <h4>迅雷网络</h4>, <h4>搜狗</h4>, <h4>思特奇</h4>, <h4>行动教育</h4>, <h4>容联云通讯</h4>, <h4>寺库</h4>, <h4>永辉超市集团</h4>, <h4>生活半径</h4>, <h4>北京亿玛在线</h4>, <h4>东软集团</h4>, <h4>多点DMALL</h4>, <h4>Moka</h4>, <h4>远行地产</h4>, <h4>华米科技</h4>, <h4>G7</h4>, <h4>英方软件</h4>, <h4>一亩田</h4>, <h4>美菜</h4>, <h4>北京新氧科技</h4>, <h4>美团新零售业务部</h4>, <h4>智慧芽</h4>, <h4>财新传媒</h4>, <h4>迪安诊断</h4>]\n",
      "------------------------------------------------------------\n",
      "[<p>热招 <span class=\"vline\"></span> <u class=\"h\">小学数学主讲/教研</u> 20-40K</p>, <p>热招 <span class=\"vline\"></span> <u class=\"h\">oppo--急招-高级推荐算法工程师</u> 25-50K·16薪</p>, <p>热招 <span class=\"vline\"></span> <u class=\"h\">产品经理（全国）</u> 16-30K</p>, <p>热招 <span class=\"vline\"></span> <u class=\"h\">招聘顾问</u> 15-20K</p>, <p>热招 <span class=\"vline\"></span> <u class=\"h\">网络安全专家（项目合作）</u> 15-30K</p>, <p>热招 <span class=\"vline\"></span> <u class=\"h\">语音厅产品经理</u> 20-40K·15薪</p>, <p>热招 <span class=\"vline\"></span> <u class=\"h\">服务端高级开发工程师</u> 30-45K·15薪</p>, <p>热招 <span class=\"vline\"></span> <u class=\"h\">高级经营分析专员【北京】</u> 12-17K</p>, <p>热招 <span class=\"vline\"></span> <u class=\"h\">EMBA学习官（TOB）</u> 15-30K</p>, <p>热招 <span class=\"vline\"></span> <u class=\"h\">经营分析主管</u> 12-20K·14薪</p>, <p>热招 <span class=\"vline\"></span> <u class=\"h\">数据分析师</u> 15-25K</p>, <p>热招 <span class=\"vline\"></span> <u class=\"h\">永辉超市集团招聘理货员</u> 4-6K</p>, <p>热招 <span class=\"vline\"></span> <u class=\"h\">生活半径招聘配送员</u> 8-13K</p>, <p>热招 <span class=\"vline\"></span> <u class=\"h\">信息流优化</u> 15-25K</p>, <p>热招 <span class=\"vline\"></span> <u class=\"h\">高级客户经理（DHR）</u> 15-20K</p>, <p>热招 <span class=\"vline\"></span> <u class=\"h\">JAVA高级研发工程师</u> 20-35K·13薪</p>, <p>热招 <span class=\"vline\"></span> <u class=\"h\">内容营销经理</u> 18-20K·15薪</p>, <p>热招 <span class=\"vline\"></span> <u class=\"h\">高级销售顾问 无责底薪 经验不限 氛围超好</u> 7-12K</p>, <p>热招 <span class=\"vline\"></span> <u class=\"h\">推荐产品经理</u> 20-35K·15薪</p>, <p>热招 <span class=\"vline\"></span> <u class=\"h\">商务经理（非车）</u> 12-17K</p>, <p>热招 <span class=\"vline\"></span> <u class=\"h\">C++开发工程师</u> 15-30K·14薪</p>, <p>热招 <span class=\"vline\"></span> <u class=\"h\">资深商家工具产品经理</u> 20-35K·15薪</p>, <p>热招 <span class=\"vline\"></span> <u class=\"h\">研发总监</u> 40-70K·16薪</p>, <p>热招 <span class=\"vline\"></span> <u class=\"h\">医生助理</u> 10-15K</p>, <p>热招 <span class=\"vline\"></span> <u class=\"h\">数据产品实习生</u> 4-5K</p>, <p>热招 <span class=\"vline\"></span> <u class=\"h\">华北生物医药大客户经理</u> 20-40K</p>, <p>热招 <span class=\"vline\"></span> <u class=\"h\">产业组IT记者</u> 7-10K</p>, <p>热招 <span class=\"vline\"></span> <u class=\"h\">样本处理员</u> 4-6K</p>]\n",
      "[<h4>品众互动</h4>, <h4>金蝶</h4>, <h4>拓尔思</h4>, <h4>歌德盈香股份</h4>, <h4>恒昌汇财</h4>, <h4>网易乐得</h4>, <h4>人人车</h4>, <h4>叮当快药</h4>, <h4>团车网</h4>, <h4>新奥特</h4>, <h4>中国联通</h4>, <h4>泰康人寿</h4>, <h4>途虎养车</h4>, <h4>Symbio</h4>, <h4>太极华青</h4>, <h4>北京嘉和美康</h4>, <h4>GrowingIO</h4>, <h4>中酒网</h4>, <h4>捷顺科技</h4>, <h4>车车科技</h4>, <h4>时趣互动</h4>, <h4>福佑卡车</h4>, <h4>快法务</h4>, <h4>信融科技</h4>, <h4>医联</h4>, <h4>新网</h4>, <h4>苏宁易购</h4>, <h4>一下科技</h4>]\n",
      "------------------------------------------------------------\n",
      "[<p>热招 <span class=\"vline\"></span> <u class=\"h\">平面设计</u> 5-6K</p>, <p>热招 <span class=\"vline\"></span> <u class=\"h\">大项目经理（财务&amp;供应链&amp;业财一体化）</u> 30-60K</p>, <p>热招 <span class=\"vline\"></span> <u class=\"h\">python爬虫开发工程师</u> 10-15K</p>, <p>热招 <span class=\"vline\"></span> <u class=\"h\">北京丽晶酒店奢侈品导购（上一休一）</u> 8-13K</p>, <p>热招 <span class=\"vline\"></span> <u class=\"h\">数据分析师</u> 15-20K</p>, <p>热招 <span class=\"vline\"></span> <u class=\"h\">测试开发</u> 15-30K</p>, <p>热招 <span class=\"vline\"></span> <u class=\"h\">C端产品经理-用户产品</u> 12-20K·15薪</p>, <p>热招 <span class=\"vline\"></span> <u class=\"h\">电商运营</u> 10-13K</p>, <p>热招 <span class=\"vline\"></span> <u class=\"h\">汽车主播（北京）</u> 3-8K</p>, <p>热招 <span class=\"vline\"></span> <u class=\"h\">android研发工程师</u> 11-20K</p>, <p>热招 <span class=\"vline\"></span> <u class=\"h\">运营支撑岗（行业政策对接）</u> 20-40K</p>, <p>热招 <span class=\"vline\"></span> <u class=\"h\">HWP健康财富规划师</u> 15-30K</p>, <p>热招 <span class=\"vline\"></span> <u class=\"h\">资深督导-北京-线下</u> 10-15K</p>, <p>热招 <span class=\"vline\"></span> <u class=\"h\">前端工程师(VUE)</u> 10-15K</p>, <p>热招 <span class=\"vline\"></span> <u class=\"h\">运维工程师</u> 8-12K</p>, <p>热招 <span class=\"vline\"></span> <u class=\"h\">数据工程师</u> 10-14K</p>, <p>热招 <span class=\"vline\"></span> <u class=\"h\">机器学习工程师</u> 25-50K</p>, <p>热招 <span class=\"vline\"></span> <u class=\"h\">电商运营经理/主管</u> 15-20K</p>, <p>热招 <span class=\"vline\"></span> <u class=\"h\">产品经理</u> 11-13K·13薪</p>, <p>热招 <span class=\"vline\"></span> <u class=\"h\">运营结算主管</u> 10-12K·13薪</p>, <p>热招 <span class=\"vline\"></span> <u class=\"h\">策划经理/ACD</u> 14-15K</p>, <p>热招 <span class=\"vline\"></span> <u class=\"h\">保险理赔经理</u> 15-20K·14薪</p>, <p>热招 <span class=\"vline\"></span> <u class=\"h\">财税顾问（早九晚六＋六日双休）</u> 13-15K</p>, <p>热招 <span class=\"vline\"></span> <u class=\"h\">销售经理（知识产权方向）</u> 15-30K</p>, <p>热招 <span class=\"vline\"></span> <u class=\"h\">coe专家</u> 30-35K·14薪</p>, <p>热招 <span class=\"vline\"></span> <u class=\"h\">渠道总监（ISV、云厂商）</u> 20-30K</p>, <p>热招 <span class=\"vline\"></span> <u class=\"h\">产品经理/高级产品(南京工作，可上北京社保)</u> 25-50K</p>, <p>热招 <span class=\"vline\"></span> <u class=\"h\">UI设计师</u> 25-30K</p>]\n",
      "[<h4>大V店</h4>, <h4>中信银行</h4>, <h4>千锋互联</h4>, <h4>阅文集团</h4>, <h4>新课堂</h4>, <h4>玄武科技</h4>, <h4>AnG</h4>, <h4>甲骨文</h4>, <h4>千锋教育</h4>, <h4>ASDC</h4>, <h4>对啊网</h4>, <h4>东易日盛装饰</h4>, <h4>海尔集团</h4>, <h4>拓维信息</h4>, <h4>喜马拉雅</h4>, <h4>通联数据</h4>, <h4>思迈特软件</h4>, <h4>联想</h4>, <h4>富泰华工业</h4>, <h4>平安普惠</h4>, <h4>天猫</h4>, <h4>学大教育</h4>, <h4>集翔网大</h4>, <h4>爱康齿科</h4>, <h4>找钢网</h4>, <h4>CheilPengTai</h4>, <h4>平安银行</h4>, <h4>优信集团</h4>]\n",
      "------------------------------------------------------------\n",
      "[<p>热招 <span class=\"vline\"></span> <u class=\"h\">带货主播</u> 10-15K</p>, <p>热招 <span class=\"vline\"></span> <u class=\"h\">数据挖掘</u> 20-40K</p>, <p>热招 <span class=\"vline\"></span> <u class=\"h\">软件测试讲师</u> 16-23K</p>, <p>热招 <span class=\"vline\"></span> <u class=\"h\">搜索算法高级工程师</u> 25-50K·16薪</p>, <p>热招 <span class=\"vline\"></span> <u class=\"h\">管理培训生</u> 15-20K</p>, <p>热招 <span class=\"vline\"></span> <u class=\"h\">项目经理（toB自研CRM产品）(J10465)</u> 15-25K·13薪</p>, <p>热招 <span class=\"vline\"></span> <u class=\"h\">中级优化师-双休</u> 9-14K</p>, <p>热招 <span class=\"vline\"></span> <u class=\"h\">EBS 数据库管理员</u> 40-60K</p>, <p>热招 <span class=\"vline\"></span> <u class=\"h\">软件测试企业项目导师(兼职)</u> 10-11K</p>, <p>热招 <span class=\"vline\"></span> <u class=\"h\">前端开发（嘉实）</u> 15-17K</p>, <p>热招 <span class=\"vline\"></span> <u class=\"h\">网络销售</u> 10-15K</p>, <p>热招 <span class=\"vline\"></span> <u class=\"h\">设计师助理室内</u> 3-7K</p>, <p>热招 <span class=\"vline\"></span> <u class=\"h\">门店店长</u> 8-13K</p>, <p>热招 <span class=\"vline\"></span> <u class=\"h\">咨询和解决方案专家</u> 25-45K·16薪</p>, <p>热招 <span class=\"vline\"></span> <u class=\"h\">网文主编</u> 20-35K</p>, <p>热招 <span class=\"vline\"></span> <u class=\"h\">销售经理</u> 10-14K</p>, <p>热招 <span class=\"vline\"></span> <u class=\"h\">BI工程师（北京）</u> 9-13K</p>, <p>热招 <span class=\"vline\"></span> <u class=\"h\">直播运营</u> 9-14K</p>, <p>热招 <span class=\"vline\"></span> <u class=\"h\">华北区销售总监</u> 15-20K</p>, <p>热招 <span class=\"vline\"></span> <u class=\"h\">金融信贷专员</u> 5-10K</p>, <p>热招 <span class=\"vline\"></span> <u class=\"h\">测试专家</u> 25-50K</p>, <p>热招 <span class=\"vline\"></span> <u class=\"h\">高薪招聘初高物理老师</u> 12-20K</p>, <p>热招 <span class=\"vline\"></span> <u class=\"h\">云原生平台架构师</u> 30-60K</p>, <p>热招 <span class=\"vline\"></span> <u class=\"h\">经营数据分析师</u> 15-20K</p>, <p>热招 <span class=\"vline\"></span> <u class=\"h\">销售管培生/储备干部</u> 8-13K</p>, <p>热招 <span class=\"vline\"></span> <u class=\"h\">资深广告客户经理SAM/AAD</u> 20-30K·13薪</p>, <p>热招 <span class=\"vline\"></span> <u class=\"h\">销售专员</u> 6-7K</p>, <p>热招 <span class=\"vline\"></span> <u class=\"h\">海外社媒运营</u> 12-15K</p>]\n",
      "[<h4>欣和企业</h4>, <h4>TP-LINK</h4>, <h4>光云科技</h4>, <h4>数码视讯科技集团</h4>, <h4>新浪</h4>, <h4>搜狐集团</h4>, <h4>看准网</h4>, <h4>美术宝</h4>, <h4>tap4fun</h4>, <h4>新好耶</h4>, <h4>华兴资本</h4>, <h4>东信时代</h4>, <h4>腾信软创</h4>, <h4>汇纳科技</h4>, <h4>车易拍</h4>, <h4>销售易</h4>, <h4>钱袋宝</h4>, <h4>恒昌</h4>, <h4>Garmin</h4>, <h4>星巴克咖啡</h4>, <h4>软通动力</h4>, <h4>携程旅行网</h4>, <h4>兴业银行</h4>, <h4>博洛尼</h4>, <h4>恒昌</h4>, <h4>慧聪网</h4>, <h4>哔哩哔哩</h4>, <h4>汤臣倍健</h4>]\n",
      "------------------------------------------------------------\n",
      "[<p>热招 <span class=\"vline\"></span> <u class=\"h\">京东运营经理</u> 20-35K·13薪</p>, <p>热招 <span class=\"vline\"></span> <u class=\"h\">高级系统设计硬件工程师</u> 25-50K·16薪</p>, <p>热招 <span class=\"vline\"></span> <u class=\"h\">销售主管</u> 18-25K</p>, <p>热招 <span class=\"vline\"></span> <u class=\"h\">销售经理</u> 10-15K</p>, <p>热招 <span class=\"vline\"></span> <u class=\"h\">PHP</u> 15-30K·14薪</p>, <p>热招 <span class=\"vline\"></span> <u class=\"h\">广告算法架构师</u> 35-70K</p>, <p>热招 <span class=\"vline\"></span> <u class=\"h\">数据架构工程师</u> 20-30K·16薪</p>, <p>热招 <span class=\"vline\"></span> <u class=\"h\">管理培训生（在线素质教育领头羊）</u> 5-7K</p>, <p>热招 <span class=\"vline\"></span> <u class=\"h\">高级SLG系统策划（异地）</u> 20-40K</p>, <p>热招 <span class=\"vline\"></span> <u class=\"h\">产品经理</u> 10-20K</p>, <p>热招 <span class=\"vline\"></span> <u class=\"h\">数据分析实习生</u> 150-200元/天</p>, <p>热招 <span class=\"vline\"></span> <u class=\"h\">大客户广告销售经理</u> 15-25K</p>, <p>热招 <span class=\"vline\"></span> <u class=\"h\">c语言嵌入式开发工程师（短期三个月项目）</u> 19-20K</p>, <p>热招 <span class=\"vline\"></span> <u class=\"h\">销售助理</u> 6-10K</p>, <p>热招 <span class=\"vline\"></span> <u class=\"h\">高级移动产品经理</u> 20-35K·14薪</p>, <p>热招 <span class=\"vline\"></span> <u class=\"h\">高级Java开发工程师</u> 20-35K·13薪</p>, <p>热招 <span class=\"vline\"></span> <u class=\"h\">产品经理（商户管理方向）</u> 25-35K·15薪</p>, <p>热招 <span class=\"vline\"></span> <u class=\"h\">理财顾问</u> 6-11K</p>, <p>热招 <span class=\"vline\"></span> <u class=\"h\">活动推广专员</u> 8-12K·14薪</p>, <p>热招 <span class=\"vline\"></span> <u class=\"h\">兼职·星巴克咖啡招聘咖啡师</u> 20-30元/时</p>, <p>热招 <span class=\"vline\"></span> <u class=\"h\">数通工程师</u> 10-12K</p>, <p>热招 <span class=\"vline\"></span> <u class=\"h\">产品经理</u> 15-16K</p>, <p>热招 <span class=\"vline\"></span> <u class=\"h\">客户经理</u> 7-12K</p>, <p>热招 <span class=\"vline\"></span> <u class=\"h\">家居设计</u> 3-5K</p>, <p>热招 <span class=\"vline\"></span> <u class=\"h\">理财顾问</u> 10-15K</p>, <p>热招 <span class=\"vline\"></span> <u class=\"h\">单证员</u> 6-8K·15薪</p>, <p>热招 <span class=\"vline\"></span> <u class=\"h\">客户运营（网服行业）</u> 15-25K</p>, <p>热招 <span class=\"vline\"></span> <u class=\"h\">营养讲师(J11966)</u> 8-10K</p>]\n",
      "[<h4>易车公司</h4>, <h4>美年大健康</h4>, <h4>智云健康</h4>, <h4>新华网</h4>, <h4>博彦科技</h4>, <h4>小i机器人</h4>, <h4>兑吧</h4>, <h4>全时云</h4>, <h4>道旅旅游科技</h4>, <h4>分众传媒</h4>, <h4>英孚教育</h4>, <h4>京东</h4>, <h4>平安集团</h4>, <h4>飞利浦</h4>, <h4>大众点评网</h4>, <h4>顺丰科技</h4>, <h4>超星集团</h4>, <h4>掌合天下</h4>, <h4>顺顺留学</h4>, <h4>金智教育</h4>, <h4>凯撒旅游</h4>, <h4>平安健康</h4>, <h4>北京新东方</h4>, <h4>途牛旅游网</h4>, <h4>丁香园</h4>, <h4>华傲数据</h4>, <h4>蓝犀牛</h4>, <h4>i-mybest</h4>]\n",
      "------------------------------------------------------------\n",
      "[<p>热招 <span class=\"vline\"></span> <u class=\"h\">GO语言高级工程师</u> 25-50K·16薪</p>, <p>热招 <span class=\"vline\"></span> <u class=\"h\">B超医生</u> 17-18K</p>, <p>热招 <span class=\"vline\"></span> <u class=\"h\">药品（高级）地区经理（北京） (MJ002378)</u> 20-40K</p>, <p>热招 <span class=\"vline\"></span> <u class=\"h\">人力资源实习生</u> 80-110元/天</p>, <p>热招 <span class=\"vline\"></span> <u class=\"h\">广告运营专员（韩语流利）</u> 12-16K</p>, <p>热招 <span class=\"vline\"></span> <u class=\"h\">售前工程师</u> 15-22K</p>, <p>热招 <span class=\"vline\"></span> <u class=\"h\">高级新媒体运营</u> 12-14K</p>, <p>热招 <span class=\"vline\"></span> <u class=\"h\">高级行政助理</u> 8-13K</p>, <p>热招 <span class=\"vline\"></span> <u class=\"h\">国际机票产品经理</u> 20-40K</p>, <p>热招 <span class=\"vline\"></span> <u class=\"h\">司机</u> 4-6K</p>, <p>热招 <span class=\"vline\"></span> <u class=\"h\">高薪招聘--课程顾问--海外游学留学</u> 15-18K</p>, <p>热招 <span class=\"vline\"></span> <u class=\"h\">后端开发工程师</u> 25-45K·16薪</p>, <p>热招 <span class=\"vline\"></span> <u class=\"h\">早9晚6周末双休/六险一金/运营客服</u> 8-13K·13薪</p>, <p>热招 <span class=\"vline\"></span> <u class=\"h\">高级集成工程师</u> 15-25K</p>, <p>热招 <span class=\"vline\"></span> <u class=\"h\">人力资源实习生</u> 2-3K</p>, <p>热招 <span class=\"vline\"></span> <u class=\"h\">物流策略产品经理</u> 15-16K</p>, <p>热招 <span class=\"vline\"></span> <u class=\"h\">销售经理</u> 10-15K</p>, <p>热招 <span class=\"vline\"></span> <u class=\"h\">售前技术支持</u> 25-35K·14薪</p>, <p>热招 <span class=\"vline\"></span> <u class=\"h\">房地产项目总经理</u> 30-35K</p>, <p>热招 <span class=\"vline\"></span> <u class=\"h\">产品销售-“AI+课程”</u> 14-17K·20薪</p>, <p>热招 <span class=\"vline\"></span> <u class=\"h\">产品经理</u> 6-9K</p>, <p>热招 <span class=\"vline\"></span> <u class=\"h\">健康专家助手（北京）</u> 6-8K</p>, <p>热招 <span class=\"vline\"></span> <u class=\"h\">高中日语教师</u> 5-10K</p>, <p>热招 <span class=\"vline\"></span> <u class=\"h\">旅行社分销销售</u> 7-12K</p>, <p>热招 <span class=\"vline\"></span> <u class=\"h\">TD数字营销助理项目经理（药企业务）</u> 10-15K</p>, <p>热招 <span class=\"vline\"></span> <u class=\"h\">图像算法工程师</u> 25-35K</p>, <p>热招 <span class=\"vline\"></span> <u class=\"h\">带车搬家师傅</u> 7-8K</p>, <p>热招 <span class=\"vline\"></span> <u class=\"h\">活动运营</u> 16-20K</p>]\n",
      "[<h4>生活魔方</h4>, <h4>三好网</h4>, <h4>蚂蜂窝</h4>, <h4>鲁海食品</h4>]\n",
      "------------------------------------------------------------\n",
      "[<p>热招 <span class=\"vline\"></span> <u class=\"h\">高级月嫂</u> 10-15K</p>, <p>热招 <span class=\"vline\"></span> <u class=\"h\">平面设计师</u> 11-20K</p>, <p>热招 <span class=\"vline\"></span> <u class=\"h\">资深产品经理（移动端）</u> 18-30K</p>, <p>热招 <span class=\"vline\"></span> <u class=\"h\">平面设计师</u> 6-8K</p>]\n"
     ]
    }
   ],
   "source": [
    "#获得boss直聘公司信息\n",
    "List1 = list()\n",
    "List2 = list()\n",
    "List3 = list()\n",
    "for i in range(1, 9):\n",
    "    # 创建浏览器驱动\n",
    "    service = webdriver.EdgeService(\n",
    "        executable_path='C:/Program Files (x86)/Microsoft/Edge/Application/msedgedriver.exe')\n",
    "    driver = webdriver.Edge(service=service)\n",
    "    # 打开网页\n",
    "    driver.get(\"https://www.zhipin.com/gongsi/_zzz_c101010100/?page={}&ka=page-{}\".format(i, i))\n",
    "\n",
    "    # 等待动态内容加载完成\n",
    "    wait = WebDriverWait(driver, 10)\n",
    "    dynamic_content = wait.until(EC.presence_of_element_located((By.XPATH, \"//div[@id='wrap']\")))\n",
    "\n",
    "    # 获取整个 HTML 文档\n",
    "    html_content = driver.page_source\n",
    "\n",
    "    # 获取 ::before 后面的内容\n",
    "    before_content = html_content.split(\"::before\")[-1]\n",
    "\n",
    "\n",
    "    #beautifulsoup解析\n",
    "    Soup = BeautifulSoup(before_content)\n",
    "    scop = Soup.find('div', class_=\"company-tab-box company-list\")\n",
    "    GONGSI = scop.find_all('h4')\n",
    "    zhiwei = scop.find_all('p')\n",
    "    shuxing=scop.find_all('span')\n",
    "    print(GONGSI)\n",
    "    print('-' * 60)\n",
    "    print(zhiwei)\n",
    "    List1.append(GONGSI)\n",
    "    List2.append(zhiwei)\n",
    "    List3.append(shuxing)\n",
    "# 关闭浏览器\n",
    "driver.quit()\n",
    "\n"
   ]
  },
  {
   "cell_type": "code",
   "execution_count": 20,
   "id": "73b8a2b2-db33-42fe-ba52-39d420ea931e",
   "metadata": {
    "ExecuteTime": {
     "end_time": "2024-06-25T07:06:51.031720Z",
     "start_time": "2024-06-25T07:06:50.954784Z"
    }
   },
   "outputs": [],
   "source": [
    "#爬取的结果是一个由beautifulsoup组成的列表，为了继续提取信息转为txt并保存\n",
    "# 读取爬取的列表内容并移入output.txt\n",
    "with open('output.txt', 'w', encoding='utf-8') as file:\n",
    "    for item in range(len(List2)):\n",
    "        file.write(str(List2[item]))\n",
    "\n",
    "#初步获取职位信息(List1)\n",
    "with open('output.txt','r',encoding='utf-8') as file:\n",
    "    file1=BeautifulSoup(file,'html.parser')\n",
    "    zhiwei=file1.find_all('u',class_=\"h\")\n",
    "\n",
    "with open('output.txt','r',encoding='utf-8') as file:\n",
    "    file1=BeautifulSoup(file,'html.parser')\n",
    "    zhiwei=file1.find_all('u',class_=\"h\")\n",
    "\n",
    "\n",
    "#初步获取薪资信息(List1)\n",
    "\n",
    "import re\n",
    "    #定义re的匹配模式\n",
    "pattern = r'(\\d+-\\d+K)'\n",
    "    #定义一个获取薪资的函数\n",
    "def get_money(filename):\n",
    "    #初始化\n",
    "    salaries=[]\n",
    "    with open(filename, 'r',encoding='utf-8') as file:\n",
    "    #逐行读取文本\n",
    "        for line in file:\n",
    "            #re匹配\n",
    "            matches = re.findall(pattern, line)\n",
    "            #加入列表\n",
    "            salaries.extend(matches)\n",
    "        return salaries\n",
    "filename = \"output.txt\"\n",
    "moneys = get_money(filename)\n",
    "\n",
    "\n",
    "    #初始化\n",
    "position2 = []\n",
    "Salary2 = []\n",
    "result2 = []\n",
    "kind2=[]\n",
    "# 对职位信息进一步提取\n",
    "for zhi in range(len(zhiwei)):\n",
    "    position1 = zhiwei[zhi].text\n",
    "    position2.append(position1)\n",
    "# 对薪资进一步提取\n",
    "for money in range(len(moneys)):\n",
    "    Salary1 = moneys[money]\n",
    "    Salary2.append(Salary1)\n",
    "#对公司进一步提取（List2）\n",
    "for i in range(len(List1)):\n",
    "    a = str(List1[i])\n",
    "    pattern = \"<h4>(.*?)</h4>\"\n",
    "    result1 = re.findall(pattern, a)\n",
    "    result2.append(result1)\n",
    "\n",
    "for i in range(len(List3)):\n",
    "    b = str(List3[i])\n",
    "    patterns = \"<span>(.*?)</span>\"\n",
    "    kind1 = re.findall(patterns, b)\n",
    "    kind2.append(kind1)\n",
    "\n",
    "\n",
    "for sublist in kind2:  \n",
    "    if '...' in sublist:  \n",
    "        sublist.remove('...')  \n",
    "\n",
    "all_rows = []  # 创建一个空列表来收集所有的字典  \n",
    "  \n",
    "for sublist in kind2:  \n",
    "    # 使用列表推导式来创建包含每对公司属性的字典列表，同时确保不会超出索引范围  \n",
    "    rows = [{ '属性1':sublist[i], '属性2':sublist[i+1]} for i in range(0, len(sublist) - 1, 2) if i + 1 < len(sublist)]  \n",
    "      \n",
    "    # 将这个子列表的字典列表添加到总列表中  \n",
    "    all_rows.extend(rows)  \n",
    "  \n",
    "# 使用收集到的所有字典列表创建最终的DataFrame  \n",
    "kind = pd.DataFrame(all_rows) \n",
    "\n",
    "\n",
    "#创建公司列\n",
    "gongsi=pd.DataFrame(result2)\n",
    "conpany = gongsi.stack()\n",
    "conpany = conpany.reset_index(drop=True)\n",
    "conpany=pd.Series(conpany,name='conpany')\n",
    "#创建职位列\n",
    "position=pd.Series(position2,name='position')\n",
    "#创建薪资列\n",
    "Salary=pd.Series(Salary2,name='Salary')\n",
    "#组合成表格存入CSV\n",
    "df = pd.concat([conpany,position,Salary],axis=1)#.to_csv('boss直聘.csv')\n",
    "\n",
    "\n",
    "# 处理空值\n",
    "Salary = Salary.fillna('0 0')\n",
    "\n",
    "#创建函数用于读取数字\n",
    "def get_averageSalary(salary):\n",
    "    # 匹配数字\n",
    "    numbers = re.findall(r'\\d+', salary)\n",
    "    #如果没有两个数字就返回None\n",
    "    if len(numbers) != 2:\n",
    "        return None\n",
    "    # 将字符串转换为整数\n",
    "    num1, num2 = int(numbers[0]), int(numbers[1])\n",
    "    # 计算均值\n",
    "    return (num1 + num2) / 2\n",
    "\n",
    "\n",
    "mid_Salary = []\n",
    "#遍历薪资列取出数字并且计算均值\n",
    "for q in range(0, len(Salary)):\n",
    "\n",
    "    avrage_salary = get_averageSalary(Salary[q])\n",
    "    if avrage_salary is not None:  # 确保计算得到的平均薪资不是 None\n",
    "        mid_Salary.append(avrage_salary)\n",
    "mid_Salary = pd.Series(mid_Salary, name='avg_salary')\n",
    "#整合进最后的Dataframe\n",
    "boss = pd.concat([conpany,position,Salary,mid_Salary],axis=1)#.to_csv('北京boss直聘.csv')\n",
    "\n",
    "max_len = max(len(boss), len(kind))  \n",
    "boss = pd.concat([boss, pd.DataFrame(index=range(max_len - len(boss)))]).reset_index(drop=True)  \n",
    "kind = pd.concat([kind, pd.DataFrame(index=range(max_len - len(kind)))]).reset_index(drop=True)  \n",
    "  \n",
    "# 现在 df_boss 和 df_kind 有相同的行数，可以直接使用 concat 结合  \n",
    "df_combined = pd.concat([boss, kind], axis=1)"
   ]
  },
  {
   "cell_type": "code",
   "execution_count": 22,
   "id": "dc3cc037-10eb-4ec2-ae0f-884d0f03e6a9",
   "metadata": {
    "ExecuteTime": {
     "end_time": "2024-06-25T07:28:35.334720Z",
     "start_time": "2024-06-25T07:28:35.326609Z"
    }
   },
   "outputs": [
    {
     "data": {
      "text/plain": "[['已上市',\n  '互联网',\n  '已上市',\n  '社交网络与媒体',\n  '不需要融资',\n  '计算机软件',\n  '已上市',\n  '人力资源服务',\n  '已上市',\n  '互联网',\n  '已上市',\n  '互联网',\n  'D轮及以上',\n  '互联网',\n  '已上市',\n  '互联网',\n  '已上市',\n  '计算机软件',\n  '已上市',\n  '互联网',\n  '已上市',\n  '互联网',\n  '不需要融资',\n  '互联网',\n  '已上市',\n  '游戏',\n  '已上市',\n  '游戏',\n  '已上市',\n  '互联网',\n  '已上市',\n  '计算机软件',\n  '已上市',\n  '互联网',\n  '已上市',\n  '生活服务（O2O）',\n  '已上市',\n  '互联网',\n  '已上市',\n  '互联网',\n  'D轮及以上',\n  '互联网',\n  '不需要融资',\n  '生活服务（O2O）',\n  '不需要融资',\n  '游戏',\n  '已上市',\n  '计算机软件',\n  'D轮及以上',\n  '互联网',\n  '已上市',\n  '生活服务（O2O）',\n  '已上市',\n  '互联网',\n  '已上市',\n  '互联网'],\n ['D轮及以上',\n  '计算机服务',\n  '已上市',\n  '电子商务',\n  'D轮及以上',\n  '移动互联网',\n  '已上市',\n  '计算机软件',\n  '已上市',\n  '计算机软件',\n  '已上市',\n  '移动互联网',\n  'C轮',\n  '电子商务',\n  'D轮及以上',\n  '互联网',\n  'C轮',\n  '互联网',\n  '已上市',\n  '互联网',\n  'D轮及以上',\n  '互联网',\n  'D轮及以上',\n  '互联网',\n  '不需要融资',\n  '互联网',\n  'C轮',\n  '信息安全',\n  '已上市',\n  '互联网金融',\n  'C轮',\n  '互联网',\n  '已上市',\n  '培训/辅导机构',\n  '已上市',\n  '互联网',\n  '已上市',\n  '互联网',\n  '已上市',\n  '计算机软件',\n  '已上市',\n  '互联网',\n  '已上市',\n  '互联网',\n  '已上市',\n  '互联网',\n  '不需要融资',\n  '互联网',\n  '已上市',\n  '互联网金融',\n  '不需要融资',\n  'O2O',\n  'D轮及以上',\n  '互联网',\n  '已上市',\n  '互联网金融'],\n ['D轮及以上',\n  '互联网',\n  '不需要融资',\n  '互联网',\n  '已上市',\n  '互联网',\n  'D轮及以上',\n  '在线教育',\n  'C轮',\n  '互联网',\n  '已上市',\n  '互联网',\n  '已上市',\n  '互联网',\n  '已上市',\n  '互联网',\n  '已上市',\n  '咨询',\n  '已上市',\n  '互联网',\n  '已上市',\n  '电子商务',\n  '已上市',\n  '互联网',\n  'D轮及以上',\n  '互联网',\n  '已上市',\n  '互联网',\n  '已上市',\n  '计算机软件',\n  'C轮',\n  '新零售',\n  'C轮',\n  '互联网',\n  '不需要融资',\n  '工程施工',\n  '已上市',\n  '智能硬件',\n  'D轮及以上',\n  '互联网',\n  '已上市',\n  '互联网',\n  'C轮',\n  'O2O',\n  'D轮及以上',\n  '电子商务',\n  '已上市',\n  '互联网',\n  '已上市',\n  '生活服务（O2O）',\n  'D轮及以上',\n  '互联网',\n  '不需要融资',\n  '互联网',\n  '不需要融资',\n  '医疗健康'],\n ['已上市',\n  '互联网',\n  '已上市',\n  '互联网',\n  '已上市',\n  '互联网',\n  'D轮及以上',\n  '互联网',\n  '不需要融资',\n  '互联网金融',\n  '不需要融资',\n  '互联网',\n  'D轮及以上',\n  '互联网',\n  'C轮',\n  '互联网',\n  '已上市',\n  '生活服务（O2O）',\n  '已上市',\n  '互联网',\n  '已上市',\n  '通信/网络设备',\n  '不需要融资',\n  '互联网金融',\n  '已上市',\n  'O2O',\n  '不需要融资',\n  '计算机软件',\n  '不需要融资',\n  '计算机软件',\n  '已上市',\n  '互联网',\n  'C轮',\n  '互联网',\n  '不需要融资',\n  '互联网',\n  '已上市',\n  '互联网',\n  'D轮及以上',\n  '互联网',\n  'D轮及以上',\n  '互联网',\n  'D轮及以上',\n  '互联网',\n  'C轮',\n  '企业服务',\n  '不需要融资',\n  '互联网',\n  'D轮及以上',\n  '互联网',\n  '不需要融资',\n  '互联网',\n  '已上市',\n  '电子商务',\n  'D轮及以上',\n  '移动互联网'],\n ['C轮',\n  '互联网',\n  '已上市',\n  '互联网',\n  '不需要融资',\n  '在线教育',\n  '已上市',\n  '互联网',\n  '不需要融资',\n  '在线教育',\n  '已上市',\n  '互联网',\n  '已上市',\n  '互联网',\n  '已上市',\n  '计算机软件',\n  '不需要融资',\n  '互联网',\n  '已上市',\n  '计算机软件',\n  'C轮',\n  '在线教育',\n  '已上市',\n  '生活服务（O2O）',\n  '已上市',\n  '互联网',\n  '已上市',\n  '在线教育',\n  'D轮及以上',\n  '移动互联网',\n  '不需要融资',\n  '互联网',\n  'C轮',\n  '计算机软件',\n  '已上市',\n  '计算机软件',\n  '已上市',\n  '互联网',\n  '已上市',\n  '互联网金融',\n  '已上市',\n  '互联网',\n  '已上市',\n  '在线教育',\n  '不需要融资',\n  '互联网',\n  '已上市',\n  '医疗健康',\n  'D轮及以上',\n  '互联网',\n  '不需要融资',\n  '互联网',\n  '已上市',\n  '互联网金融',\n  '已上市',\n  '互联网',\n  '...'],\n ['不需要融资',\n  '生活服务（O2O）',\n  '不需要融资',\n  '通信/网络设备',\n  '已上市',\n  '互联网',\n  '已上市',\n  '通信/网络设备',\n  '已上市',\n  '互联网',\n  '已上市',\n  '互联网',\n  'D轮及以上',\n  '人力资源服务',\n  'D轮及以上',\n  '互联网',\n  '不需要融资',\n  '游戏',\n  '不需要融资',\n  '广告营销',\n  '不需要融资',\n  '互联网金融',\n  'C轮',\n  '互联网',\n  '已上市',\n  '计算机软件',\n  '已上市',\n  '互联网',\n  'D轮及以上',\n  '互联网',\n  'D轮及以上',\n  '互联网',\n  'D轮及以上',\n  '移动互联网',\n  '不需要融资',\n  '投资/融资',\n  '不需要融资',\n  '计算机软件',\n  '已上市',\n  '生活服务（O2O）',\n  '已上市',\n  '计算机软件',\n  '已上市',\n  '互联网',\n  '已上市',\n  '互联网金融',\n  '不需要融资',\n  '生活服务（O2O）',\n  '不需要融资',\n  '互联网金融',\n  '已上市',\n  '互联网',\n  '已上市',\n  '互联网',\n  '已上市',\n  '互联网'],\n ['已上市',\n  '互联网',\n  '已上市',\n  '医疗健康',\n  '已上市',\n  '医疗健康',\n  '已上市',\n  '互联网',\n  '已上市',\n  '互联网',\n  '不需要融资',\n  '计算机软件',\n  '已上市',\n  '移动互联网',\n  'D轮及以上',\n  '互联网',\n  'D轮及以上',\n  '生活服务（O2O）',\n  '不需要融资',\n  '广告营销',\n  '不需要融资',\n  '培训/辅导机构',\n  '已上市',\n  '电子商务',\n  '已上市',\n  '保险',\n  '已上市',\n  '电子商务',\n  'D轮及以上',\n  'O2O',\n  '不需要融资',\n  '互联网',\n  '不需要融资',\n  '在线教育',\n  '不需要融资',\n  '电子商务',\n  '已上市',\n  '在线教育',\n  '已上市',\n  '互联网',\n  '已上市',\n  '旅游',\n  '已上市',\n  '互联网',\n  '已上市',\n  '在线教育',\n  '已上市',\n  '互联网',\n  'D轮及以上',\n  '互联网',\n  '不需要融资',\n  '互联网',\n  '不需要融资',\n  '生活服务（O2O）',\n  '不需要融资',\n  '互联网'],\n ['不需要融资', '生活服务（O2O）', 'C轮', '互联网', 'D轮及以上', '互联网', '不需要融资', '其他行业']]"
     },
     "execution_count": 22,
     "metadata": {},
     "output_type": "execute_result"
    }
   ],
   "source": [
    "kind2"
   ]
  },
  {
   "cell_type": "code",
   "execution_count": 18,
   "id": "5a8e3168-9153-45f1-8162-b385e227daac",
   "metadata": {
    "ExecuteTime": {
     "end_time": "2024-06-25T07:04:30.728549Z",
     "start_time": "2024-06-25T07:04:30.714331Z"
    }
   },
   "outputs": [
    {
     "ename": "NameError",
     "evalue": "name 'data' is not defined",
     "output_type": "error",
     "traceback": [
      "\u001B[1;31m---------------------------------------------------------------------------\u001B[0m",
      "\u001B[1;31mNameError\u001B[0m                                 Traceback (most recent call last)",
      "Cell \u001B[1;32mIn[18], line 1\u001B[0m\n\u001B[1;32m----> 1\u001B[0m \u001B[43mdata\u001B[49m\n",
      "\u001B[1;31mNameError\u001B[0m: name 'data' is not defined"
     ]
    }
   ],
   "source": [
    "data"
   ]
  },
  {
   "cell_type": "code",
   "execution_count": null,
   "id": "d92e1c94-18c5-4533-9e19-c44cbe895c15",
   "metadata": {
    "ExecuteTime": {
     "end_time": "2024-06-25T07:04:30.730560Z",
     "start_time": "2024-06-25T07:04:30.729560Z"
    }
   },
   "outputs": [],
   "source": [
    "data = data.drop(columns=data.columns[0])  "
   ]
  },
  {
   "cell_type": "code",
   "execution_count": null,
   "id": "9d923969-7aa0-40d1-b353-fb10e4f3e9b2",
   "metadata": {
    "ExecuteTime": {
     "start_time": "2024-06-25T07:04:30.731560Z"
    }
   },
   "outputs": [],
   "source": [
    "print(data.columns)"
   ]
  },
  {
   "cell_type": "code",
   "execution_count": null,
   "id": "b24a2f5b-070c-4c29-9586-2021b3a8714b",
   "metadata": {},
   "outputs": [],
   "source": [
    "data= data.dropna()  "
   ]
  },
  {
   "cell_type": "code",
   "execution_count": null,
   "id": "d07a2051-dd01-48e0-9e35-865ee0919f39",
   "metadata": {
    "ExecuteTime": {
     "start_time": "2024-06-25T07:04:30.734079Z"
    }
   },
   "outputs": [],
   "source": [
    "def extract_salary_range(salary_str):  \n",
    "    min_max = salary_str.split('-')  \n",
    "    min_salary = int(min_max[0].replace('K', '') or min_max[0]) * (1000 if 'K' in min_max[0] else 1)  \n",
    "    max_salary = int(min_max[1].replace('K', '') or min_max[1]) * (1000 if 'K' in min_max[1] else 1)  \n",
    "    return pd.Series({'最小值': min_salary, '最大值': max_salary})  \n",
    "\n",
    "data = data.join(data？['Salary'].apply(extract_salary_range)) "
   ]
  },
  {
   "cell_type": "code",
   "execution_count": null,
   "id": "9e70b926-b327-4ce7-a052-b00b872227d3",
   "metadata": {
    "ExecuteTime": {
     "start_time": "2024-06-25T07:04:30.735078Z"
    }
   },
   "outputs": [],
   "source": [
    "data['最大值'] = data['最大值'] / 1000 "
   ]
  },
  {
   "cell_type": "code",
   "execution_count": null,
   "id": "e5ce4dde-3b89-4755-8654-70778f170e1f",
   "metadata": {
    "ExecuteTime": {
     "start_time": "2024-06-25T07:04:30.736079Z"
    }
   },
   "outputs": [],
   "source": [
    "data['最大值'] = data['最大值'].round().astype(int)"
   ]
  },
  {
   "cell_type": "code",
   "execution_count": null,
   "id": "27eccc28-5e36-40af-ad47-da6ccd12bcfa",
   "metadata": {
    "ExecuteTime": {
     "start_time": "2024-06-25T07:04:30.737077Z"
    }
   },
   "outputs": [],
   "source": [
    "data = data.drop(columns=['position', 'Salary'])"
   ]
  },
  {
   "cell_type": "code",
   "execution_count": null,
   "id": "6fc0ed23-e16e-4b33-8a3c-4768c1cec1ae",
   "metadata": {
    "ExecuteTime": {
     "start_time": "2024-06-25T07:04:30.737077Z"
    }
   },
   "outputs": [],
   "source": [
    "cities = pd.Series(['------'] * len(data))  \n",
    "data.insert(0, '城市', cities)  "
   ]
  },
  {
   "cell_type": "code",
   "execution_count": null,
   "id": "49c3e3d5-c88a-43e9-8c04-4cf2b29c549f",
   "metadata": {
    "ExecuteTime": {
     "start_time": "2024-06-25T07:04:30.738161Z"
    }
   },
   "outputs": [],
   "source": [
    "data"
   ]
  },
  {
   "cell_type": "code",
   "execution_count": null,
   "id": "947e9c15-d08d-44c8-bea9-b559934d0560",
   "metadata": {},
   "outputs": [],
   "source": []
  }
 ],
 "metadata": {
  "kernelspec": {
   "display_name": "Python 3 (ipykernel)",
   "language": "python",
   "name": "python3"
  },
  "language_info": {
   "codemirror_mode": {
    "name": "ipython",
    "version": 3
   },
   "file_extension": ".py",
   "mimetype": "text/x-python",
   "name": "python",
   "nbconvert_exporter": "python",
   "pygments_lexer": "ipython3",
   "version": "3.11.7"
  }
 },
 "nbformat": 4,
 "nbformat_minor": 5
}
