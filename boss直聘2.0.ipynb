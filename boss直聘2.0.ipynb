{
 "cells": [
  {
   "cell_type": "code",
   "execution_count": 13,
   "id": "initial_id",
   "metadata": {
    "collapsed": true,
    "ExecuteTime": {
     "end_time": "2024-06-25T03:09:08.076445Z",
     "start_time": "2024-06-25T03:08:39.409616Z"
    }
   },
   "outputs": [
    {
     "name": "stdout",
     "output_type": "stream",
     "text": [
      "[<h3 class=\"company-name\"><a href=\"/gongsi/760b1abfce5874601nBz2dW0Flo~.html\" ka=\"search_list_company_1_custompage\" target=\"_blank\">环鑫科技</a><!-- --></h3>]\n",
      "-----\n",
      "[<span class=\"job-name\">java 工程师</span>]\n",
      "------------------------------------------------------------\n",
      "[<h3 class=\"company-name\"><a href=\"/gongsi/8d038826246b5fb31nV83d4~.html\" ka=\"search_list_company_31_custompage\" target=\"_blank\">泛微网络</a><!-- --></h3>]\n",
      "-----\n",
      "[<span class=\"job-name\">Java开发</span>]\n",
      "------------------------------------------------------------\n",
      "[<h3 class=\"company-name\"><a href=\"/gongsi/dfeffba1cbd55be71nZ639W_F1s~.html\" ka=\"search_list_company_61_custompage\" target=\"_blank\">豪越科技</a><!-- --></h3>]\n",
      "-----\n",
      "[<span class=\"job-name\">Java开发工程师</span>]\n",
      "------------------------------------------------------------\n",
      "[<h3 class=\"company-name\"><a href=\"/gongsi/a73437e7d84ad62f1nF93dS7FFY~.html\" ka=\"search_list_company_91_custompage\" target=\"_blank\">嘉兴市杰博计算机...</a><!-- --></h3>]\n",
      "-----\n",
      "[<span class=\"job-name\">Java开发工程师</span>]\n",
      "------------------------------------------------------------\n"
     ]
    },
    {
     "ename": "AttributeError",
     "evalue": "'NoneType' object has no attribute 'find_all'",
     "output_type": "error",
     "traceback": [
      "\u001B[1;31m---------------------------------------------------------------------------\u001B[0m",
      "\u001B[1;31mAttributeError\u001B[0m                            Traceback (most recent call last)",
      "Cell \u001B[1;32mIn[13], line 28\u001B[0m\n\u001B[0;32m     26\u001B[0m Soup\u001B[38;5;241m=\u001B[39mBeautifulSoup(before_content)\n\u001B[0;32m     27\u001B[0m scop\u001B[38;5;241m=\u001B[39mSoup\u001B[38;5;241m.\u001B[39mfind(\u001B[38;5;124m'\u001B[39m\u001B[38;5;124mdiv\u001B[39m\u001B[38;5;124m'\u001B[39m,class_\u001B[38;5;241m=\u001B[39m\u001B[38;5;124m\"\u001B[39m\u001B[38;5;124mjob-card-body clearfix\u001B[39m\u001B[38;5;124m\"\u001B[39m)\n\u001B[1;32m---> 28\u001B[0m GONGSI\u001B[38;5;241m=\u001B[39m\u001B[43mscop\u001B[49m\u001B[38;5;241;43m.\u001B[39;49m\u001B[43mfind_all\u001B[49m(\u001B[38;5;124m'\u001B[39m\u001B[38;5;124mh3\u001B[39m\u001B[38;5;124m'\u001B[39m,class_\u001B[38;5;241m=\u001B[39m\u001B[38;5;124m\"\u001B[39m\u001B[38;5;124mcompany-name\u001B[39m\u001B[38;5;124m\"\u001B[39m)\n\u001B[0;32m     29\u001B[0m zhiwei\u001B[38;5;241m=\u001B[39mscop\u001B[38;5;241m.\u001B[39mfind_all(\u001B[38;5;124m'\u001B[39m\u001B[38;5;124mspan\u001B[39m\u001B[38;5;124m'\u001B[39m,class_\u001B[38;5;241m=\u001B[39m\u001B[38;5;124m\"\u001B[39m\u001B[38;5;124mjob-name\u001B[39m\u001B[38;5;124m\"\u001B[39m)\n\u001B[0;32m     30\u001B[0m \u001B[38;5;28mprint\u001B[39m(GONGSI)\n",
      "\u001B[1;31mAttributeError\u001B[0m: 'NoneType' object has no attribute 'find_all'"
     ]
    }
   ],
   "source": [
    "\n",
    "import requests\n",
    "from bs4 import BeautifulSoup\n",
    "\n",
    "from selenium import webdriver\n",
    "from selenium.webdriver.common.by import By\n",
    "from selenium.webdriver.support.ui import WebDriverWait\n",
    "from selenium.webdriver.support import expected_conditions as EC\n",
    "List1=list()\n",
    "List2=list()\n",
    "for i in range(1,11):\n",
    "    # 创建浏览器驱动\n",
    "    service = webdriver.EdgeService(executable_path='C:/Program Files (x86)/Microsoft/Edge/Application/msedgedriver.exe') \n",
    "    driver = webdriver.Edge(service=service) \n",
    "    # 打开网页\n",
    "    driver.get(\"https://www.zhipin.com/web/geek/job?query=Java&city=101210300&page={}\".format(i))\n",
    "    \n",
    "    # 等待动态内容加载完成\n",
    "    wait = WebDriverWait(driver, 10)\n",
    "    dynamic_content = wait.until(EC.presence_of_element_located((By.TAG_NAME, \"body\")))\n",
    "    # 获取整个 HTML 文档\n",
    "    html_content = driver.page_source\n",
    "    \n",
    "    # 获取 ::before 后面的内容\n",
    "    before_content = html_content.split(\"::before\")[-1]\n",
    "    \n",
    "    Soup=BeautifulSoup(before_content)\n",
    "    scop=Soup.find('div',class_=\"job-card-body clearfix\")\n",
    "    GONGSI=scop.find_all('h3',class_=\"company-name\")\n",
    "    zhiwei=scop.find_all('span',class_=\"job-name\")\n",
    "    print(GONGSI)\n",
    "    print('-'*5)\n",
    "    print(zhiwei)\n",
    "    print('-'*60)\n",
    "    List1.append(GONGSI)\n",
    "    List2.append(zhiwei)\n",
    "# 关闭浏览器\n",
    "driver.quit()"
   ]
  },
  {
   "cell_type": "code",
   "outputs": [],
   "source": [],
   "metadata": {
    "collapsed": false
   },
   "id": "11a2f680f09e28"
  }
 ],
 "metadata": {
  "kernelspec": {
   "display_name": "Python 3",
   "language": "python",
   "name": "python3"
  },
  "language_info": {
   "codemirror_mode": {
    "name": "ipython",
    "version": 2
   },
   "file_extension": ".py",
   "mimetype": "text/x-python",
   "name": "python",
   "nbconvert_exporter": "python",
   "pygments_lexer": "ipython2",
   "version": "2.7.6"
  }
 },
 "nbformat": 4,
 "nbformat_minor": 5
}
